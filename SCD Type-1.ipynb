{
 "cells": [
  {
   "cell_type": "code",
   "execution_count": 0,
   "metadata": {
    "application/vnd.databricks.v1+cell": {
     "cellMetadata": {},
     "inputWidgets": {},
     "nuid": "d88f0b7b-ed02-42cc-b77f-601096040fbe",
     "showTitle": false,
     "tableResultSettingsMap": {},
     "title": ""
    }
   },
   "outputs": [],
   "source": []
  },
  {
   "cell_type": "markdown",
   "metadata": {
    "application/vnd.databricks.v1+cell": {
     "cellMetadata": {},
     "inputWidgets": {},
     "nuid": "085909b2-8492-4428-961e-cc4275daa8d5",
     "showTitle": false,
     "tableResultSettingsMap": {},
     "title": ""
    }
   },
   "source": [
    "**Accounts**"
   ]
  },
  {
   "cell_type": "code",
   "execution_count": 0,
   "metadata": {
    "application/vnd.databricks.v1+cell": {
     "cellMetadata": {
      "byteLimit": 2048000,
      "rowLimit": 10000
     },
     "inputWidgets": {},
     "nuid": "d0a11aca-f24b-4f20-80a1-dd12631288f4",
     "showTitle": false,
     "tableResultSettingsMap": {},
     "title": ""
    }
   },
   "outputs": [],
   "source": [
    "accounts_src_path='/mnt/input/Silver/accounts.parquet'\n",
    "accounts_tgt_path='/mnt/input/Gold/accounts'"
   ]
  },
  {
   "cell_type": "code",
   "execution_count": 0,
   "metadata": {
    "application/vnd.databricks.v1+cell": {
     "cellMetadata": {},
     "inputWidgets": {},
     "nuid": "a6e54e9a-9148-41ee-8342-6e53bc0d398f",
     "showTitle": false,
     "tableResultSettingsMap": {},
     "title": ""
    }
   },
   "outputs": [],
   "source": [
    "%sql\n",
    "create table if not exists accounts\n",
    "(\n",
    "  account_id int,\n",
    "   customer_id int,\n",
    "   account_type string,\n",
    "   balance double,\n",
    "   hashkey bigint,\n",
    "   createdby string,\n",
    "   createdDate timestamp,\n",
    "   updatedby string,\n",
    "   updatedDate timestamp\n",
    ") \n",
    "using delta\n",
    "location '/mnt/input/Gold/accounts'"
   ]
  },
  {
   "cell_type": "code",
   "execution_count": 0,
   "metadata": {
    "application/vnd.databricks.v1+cell": {
     "cellMetadata": {},
     "inputWidgets": {},
     "nuid": "dfce34e4-ff12-495f-acda-cf4b0d490c38",
     "showTitle": false,
     "tableResultSettingsMap": {},
     "title": ""
    }
   },
   "outputs": [],
   "source": [
    "df_accounts=spark.read.format(\"parquet\").option(\"header\", \"true\").load(accounts_src_path)\n"
   ]
  },
  {
   "cell_type": "code",
   "execution_count": 0,
   "metadata": {
    "application/vnd.databricks.v1+cell": {
     "cellMetadata": {},
     "inputWidgets": {},
     "nuid": "886fe7c3-c4c5-4341-8c78-caa95c8cbe7c",
     "showTitle": false,
     "tableResultSettingsMap": {},
     "title": ""
    }
   },
   "outputs": [],
   "source": [
    "%python\n",
    "from pyspark.sql.functions import crc32, concat\n",
    "df_accounts_hash=df_accounts.withColumn(\"hashkey\",crc32(concat(*df_accounts.columns)))"
   ]
  },
  {
   "cell_type": "code",
   "execution_count": 0,
   "metadata": {
    "application/vnd.databricks.v1+cell": {
     "cellMetadata": {},
     "inputWidgets": {},
     "nuid": "0c99cdf3-2dcd-4d61-a329-4ab3df257f2d",
     "showTitle": false,
     "tableResultSettingsMap": {},
     "title": ""
    }
   },
   "outputs": [],
   "source": [
    "from delta.tables import *\n",
    "dtable_accounts = DeltaTable.forPath(spark, accounts_tgt_path)\n",
    "dtable_accounts.toDF().show()"
   ]
  },
  {
   "cell_type": "code",
   "execution_count": 0,
   "metadata": {
    "application/vnd.databricks.v1+cell": {
     "cellMetadata": {},
     "inputWidgets": {},
     "nuid": "c21c5943-7284-4794-a0a7-9cfb5c138883",
     "showTitle": false,
     "tableResultSettingsMap": {},
     "title": ""
    }
   },
   "outputs": [],
   "source": [
    "%python\n",
    "from pyspark.sql.functions import col\n",
    "\n",
    "df_src_accounts = df_accounts_hash.alias(\"src\").join(\n",
    "    dtable_accounts.toDF().alias(\"tgt\"),\n",
    "    (col(\"src.account_id\") == col(\"tgt.account_id\")) & (col(\"src.hashkey\") == col(\"tgt.hashkey\")),\n",
    "    \"anti\"\n",
    ").select(\"src.*\")"
   ]
  },
  {
   "cell_type": "code",
   "execution_count": 0,
   "metadata": {
    "application/vnd.databricks.v1+cell": {
     "cellMetadata": {},
     "inputWidgets": {},
     "nuid": "75549c2b-bb25-4763-8ea8-04d6456f9638",
     "showTitle": false,
     "tableResultSettingsMap": {},
     "title": ""
    }
   },
   "outputs": [],
   "source": [
    "from pyspark.sql.functions import *\n",
    "dtable_accounts.alias(\"tgt\").merge(df_src_accounts.alias(\"src\"),((col(\"src.account_id\") == col(\"tgt.account_id\"))))\\\n",
    "    .whenMatchedUpdate(set={\n",
    "        \"tgt.account_id\":\"src.account_id\",\n",
    "        \"tgt.customer_id\":\"src.customer_id\",\n",
    "        \"tgt.account_type\":\"src.account_type\",\n",
    "        \"tgt.balance\":\"src.balance\",\n",
    "        \"tgt.hashkey\":\"src.hashkey\",\n",
    "        \"tgt.updatedDate\":current_timestamp(),\n",
    "        \"tgt.updatedby\":lit(\"databricks-update\")\n",
    "    })\\\n",
    "        .whenNotMatchedInsert(values={\n",
    "       \"tgt.account_id\":\"src.account_id\",\n",
    "        \"tgt.customer_id\":\"src.customer_id\",\n",
    "        \"tgt.account_type\":\"src.account_type\",\n",
    "        \"tgt.balance\":\"src.balance\",\n",
    "        \"tgt.hashkey\":\"src.hashkey\",\n",
    "        \"tgt.createdDate\":current_timestamp(),\n",
    "        \"tgt.createdby\":lit(\"databricks\"),\n",
    "        \"tgt.updatedDate\":current_timestamp(),\n",
    "        \"tgt.updatedBy\":lit(\"databricks\")\n",
    "        }).execute()\n"
   ]
  },
  {
   "cell_type": "markdown",
   "metadata": {
    "application/vnd.databricks.v1+cell": {
     "cellMetadata": {},
     "inputWidgets": {},
     "nuid": "0a116cd6-a7e5-4c5a-af27-2f12733bfa84",
     "showTitle": false,
     "tableResultSettingsMap": {},
     "title": ""
    }
   },
   "source": [
    "**Customers**"
   ]
  },
  {
   "cell_type": "code",
   "execution_count": 0,
   "metadata": {
    "application/vnd.databricks.v1+cell": {
     "cellMetadata": {
      "byteLimit": 2048000,
      "implicitDf": true,
      "rowLimit": 10000
     },
     "inputWidgets": {},
     "nuid": "2a92ed09-71ce-4005-ab19-0dc2166effa3",
     "showTitle": false,
     "tableResultSettingsMap": {},
     "title": ""
    }
   },
   "outputs": [
    {
     "output_type": "display_data",
     "data": {
      "text/html": [
       "<style scoped>\n",
       "  .table-result-container {\n",
       "    max-height: 300px;\n",
       "    overflow: auto;\n",
       "  }\n",
       "  table, th, td {\n",
       "    border: 1px solid black;\n",
       "    border-collapse: collapse;\n",
       "  }\n",
       "  th, td {\n",
       "    padding: 5px;\n",
       "  }\n",
       "  th {\n",
       "    text-align: left;\n",
       "  }\n",
       "</style><div class='table-result-container'><table class='table-result'><thead style='background-color: white'><tr></tr></thead><tbody></tbody></table></div>"
      ]
     },
     "metadata": {
      "application/vnd.databricks.v1+output": {
       "addedWidgets": {},
       "aggData": [],
       "aggError": "",
       "aggOverflow": false,
       "aggSchema": [],
       "aggSeriesLimitReached": false,
       "aggType": "",
       "arguments": {},
       "columnCustomDisplayInfos": {},
       "data": [],
       "datasetInfos": [],
       "dbfsResultPath": null,
       "isJsonSchema": true,
       "metadata": {
        "dataframeName": null
       },
       "overflow": false,
       "plotOptions": {
        "customPlotOptions": {},
        "displayType": "table",
        "pivotAggregation": null,
        "pivotColumns": null,
        "xColumns": null,
        "yColumns": null
       },
       "removedWidgets": [],
       "schema": [],
       "type": "table"
      }
     },
     "output_type": "display_data"
    }
   ],
   "source": [
    "%sql\n",
    "use catalog hive_metastore;\n",
    "create table if not exists customers\n",
    "(\n",
    "   customer_id int,\n",
    "   first_name string,\n",
    "   last_name string,\n",
    "   address string,\n",
    "   state string,\n",
    "   city string,\n",
    "   zip string,\n",
    "   hashkey bigint,\n",
    "   createdby string,\n",
    "   createdDate timestamp,\n",
    "   updatedby string,\n",
    "   updatedDate timestamp\n",
    ") \n",
    "using delta\n",
    "location '/mnt/input/Gold/customers'"
   ]
  },
  {
   "cell_type": "code",
   "execution_count": 0,
   "metadata": {
    "application/vnd.databricks.v1+cell": {
     "cellMetadata": {
      "byteLimit": 2048000,
      "rowLimit": 10000
     },
     "inputWidgets": {},
     "nuid": "446b8e7e-d613-42f9-9436-d0ac6e8d90b9",
     "showTitle": false,
     "tableResultSettingsMap": {},
     "title": ""
    }
   },
   "outputs": [],
   "source": [
    "customers_src_path='/mnt/input/Silver/customers.parquet'\n",
    "customers_tgt_path='/mnt/input/Gold/customers'"
   ]
  },
  {
   "cell_type": "code",
   "execution_count": 0,
   "metadata": {
    "application/vnd.databricks.v1+cell": {
     "cellMetadata": {
      "byteLimit": 2048000,
      "rowLimit": 10000
     },
     "inputWidgets": {},
     "nuid": "f8b1813e-40ac-47a8-b1f2-7fc9dc73c983",
     "showTitle": false,
     "tableResultSettingsMap": {},
     "title": ""
    }
   },
   "outputs": [],
   "source": [
    "df_cust=spark.read.format(\"parquet\").option(\"header\", \"true\").load(accounts_src_path)"
   ]
  },
  {
   "cell_type": "code",
   "execution_count": 0,
   "metadata": {
    "application/vnd.databricks.v1+cell": {
     "cellMetadata": {
      "byteLimit": 2048000,
      "rowLimit": 10000
     },
     "inputWidgets": {},
     "nuid": "13ff7f72-bb42-469a-be89-9727a3751cc7",
     "showTitle": false,
     "tableResultSettingsMap": {},
     "title": ""
    }
   },
   "outputs": [],
   "source": [
    "from pyspark.sql.functions import crc32, concat\n",
    "df_customers_hash=df.withColumn(\"hashkey\",crc32(concat(*df.columns)))"
   ]
  },
  {
   "cell_type": "code",
   "execution_count": 0,
   "metadata": {
    "application/vnd.databricks.v1+cell": {
     "cellMetadata": {
      "byteLimit": 2048000,
      "rowLimit": 10000
     },
     "inputWidgets": {},
     "nuid": "40575d7d-a3e0-4f50-9418-e43c9f97d477",
     "showTitle": false,
     "tableResultSettingsMap": {},
     "title": ""
    }
   },
   "outputs": [
    {
     "output_type": "stream",
     "name": "stdout",
     "output_type": "stream",
     "text": [
      "+-----------+----------+---------+-------+-----+----+---+-------+---------+-----------+---------+-----------+\n|customer_id|first_name|last_name|address|state|city|zip|hashkey|createdby|createdDate|updatedby|updatedDate|\n+-----------+----------+---------+-------+-----+----+---+-------+---------+-----------+---------+-----------+\n+-----------+----------+---------+-------+-----+----+---+-------+---------+-----------+---------+-----------+\n\n"
     ]
    }
   ],
   "source": [
    "from delta.tables import *\n",
    "dtable_customers = DeltaTable.forPath(spark, accounts_tgt_path)\n",
    "dtable_customers.toDF().show()"
   ]
  },
  {
   "cell_type": "code",
   "execution_count": 0,
   "metadata": {
    "application/vnd.databricks.v1+cell": {
     "cellMetadata": {
      "byteLimit": 2048000,
      "rowLimit": 10000
     },
     "inputWidgets": {},
     "nuid": "01489b98-afc7-4bcd-ad13-bdc3323a319c",
     "showTitle": false,
     "tableResultSettingsMap": {},
     "title": ""
    }
   },
   "outputs": [],
   "source": [
    "%python\n",
    "from pyspark.sql.functions import col\n",
    "\n",
    "df_src_customers = df_customers_hash.alias(\"src\").join(\n",
    "    dtable_customers.toDF().alias(\"tgt\"),\n",
    "    (col(\"src.customer_id\") == col(\"tgt.customer_id\")) & (col(\"src.hashkey\") == col(\"tgt.hashkey\")),\n",
    "    \"anti\"\n",
    ").select(\"src.*\")\n",
    "\n"
   ]
  },
  {
   "cell_type": "code",
   "execution_count": 0,
   "metadata": {
    "application/vnd.databricks.v1+cell": {
     "cellMetadata": {
      "byteLimit": 2048000,
      "rowLimit": 10000
     },
     "inputWidgets": {},
     "nuid": "71f6abbf-9143-493c-a55e-af3db5e6f86c",
     "showTitle": false,
     "tableResultSettingsMap": {},
     "title": ""
    }
   },
   "outputs": [],
   "source": [
    "from pyspark.sql.functions import *\n",
    "dtable_customers.alias(\"tgt\").merge(df_src_customers.alias(\"src\"),((col(\"src.customer_id\") == col(\"tgt.customer_id\"))))\\\n",
    "    .whenMatchedUpdate(set={\n",
    "        \"tgt.customer_id\":\"src.customer_id\",\n",
    "        \"tgt.first_name\":\"src.first_name\",\n",
    "        \"tgt.last_name\":\"src.last_name\",\n",
    "        \"tgt.address\":\"src.address\",\n",
    "        \"tgt.city\":\"src.city\",\n",
    "        \"tgt.state\":\"src.state\",\n",
    "        \"tgt.zip\":\"src.zip\",\n",
    "        \"tgt.hashkey\":\"src.hashkey\",\n",
    "        \"tgt.updatedDate\":current_timestamp(),\n",
    "        \"tgt.updatedby\":lit(\"databricks-update\")\n",
    "    })\\\n",
    "        .whenNotMatchedInsert(values={\n",
    "       \"tgt.customer_id\":\"src.customer_id\",\n",
    "        \"tgt.first_name\":\"src.first_name\",\n",
    "        \"tgt.last_name\":\"src.last_name\",\n",
    "        \"tgt.address\":\"src.address\",\n",
    "        \"tgt.city\":\"src.city\",\n",
    "        \"tgt.state\":\"src.state\",\n",
    "        \"tgt.zip\":\"src.zip\",\n",
    "        \"tgt.hashkey\":\"src.hashkey\",\n",
    "        \"tgt.createdDate\":current_timestamp(),\n",
    "        \"tgt.createdby\":lit(\"databricks\"),\n",
    "        \"tgt.updatedDate\":current_timestamp(),\n",
    "        \"tgt.updatedBy\":lit(\"databricks\")\n",
    "        }).execute()\n"
   ]
  },
  {
   "cell_type": "markdown",
   "metadata": {
    "application/vnd.databricks.v1+cell": {
     "cellMetadata": {},
     "inputWidgets": {},
     "nuid": "f719d62c-05b6-45c2-ad06-53d8fbada751",
     "showTitle": false,
     "tableResultSettingsMap": {},
     "title": ""
    }
   },
   "source": [
    "**Loan_Payments**"
   ]
  },
  {
   "cell_type": "code",
   "execution_count": 0,
   "metadata": {
    "application/vnd.databricks.v1+cell": {
     "cellMetadata": {
      "byteLimit": 2048000,
      "rowLimit": 10000
     },
     "inputWidgets": {},
     "nuid": "feb3c410-87b8-4aaa-8009-32edb28578db",
     "showTitle": false,
     "tableResultSettingsMap": {},
     "title": ""
    }
   },
   "outputs": [],
   "source": [
    "loan_payments_src_path='/mnt/input/Silver/loan_payments.parquet'\n",
    "loan_payments_tgt_path='/mnt/input/Gold/loan_payments'"
   ]
  },
  {
   "cell_type": "code",
   "execution_count": 0,
   "metadata": {
    "application/vnd.databricks.v1+cell": {
     "cellMetadata": {
      "byteLimit": 2048000,
      "implicitDf": true,
      "rowLimit": 10000
     },
     "inputWidgets": {},
     "nuid": "171a418b-c237-4cf8-9778-100cde0a91d4",
     "showTitle": false,
     "tableResultSettingsMap": {},
     "title": ""
    }
   },
   "outputs": [
    {
     "output_type": "display_data",
     "data": {
      "text/html": [
       "<style scoped>\n",
       "  .table-result-container {\n",
       "    max-height: 300px;\n",
       "    overflow: auto;\n",
       "  }\n",
       "  table, th, td {\n",
       "    border: 1px solid black;\n",
       "    border-collapse: collapse;\n",
       "  }\n",
       "  th, td {\n",
       "    padding: 5px;\n",
       "  }\n",
       "  th {\n",
       "    text-align: left;\n",
       "  }\n",
       "</style><div class='table-result-container'><table class='table-result'><thead style='background-color: white'><tr></tr></thead><tbody></tbody></table></div>"
      ]
     },
     "metadata": {
      "application/vnd.databricks.v1+output": {
       "addedWidgets": {},
       "aggData": [],
       "aggError": "",
       "aggOverflow": false,
       "aggSchema": [],
       "aggSeriesLimitReached": false,
       "aggType": "",
       "arguments": {},
       "columnCustomDisplayInfos": {},
       "data": [],
       "datasetInfos": [],
       "dbfsResultPath": null,
       "isJsonSchema": true,
       "metadata": {
        "dataframeName": null
       },
       "overflow": false,
       "plotOptions": {
        "customPlotOptions": {},
        "displayType": "table",
        "pivotAggregation": null,
        "pivotColumns": null,
        "xColumns": null,
        "yColumns": null
       },
       "removedWidgets": [],
       "schema": [],
       "type": "table"
      }
     },
     "output_type": "display_data"
    }
   ],
   "source": [
    "%sql\n",
    "use catalog hive_metastore;\n",
    "create table if not exists loan_payments\n",
    "(\n",
    "   payment_id int,\n",
    "   loan_id int,\n",
    "   payment_date timestamp,\n",
    "   payment_amount decimal,\n",
    "   hashkey bigint,\n",
    "   createdby string,\n",
    "   createdDate timestamp,\n",
    "   updatedby string,\n",
    "   updatedDate timestamp\n",
    ") \n",
    "using delta\n",
    "location '/mnt/input/Gold/loan_payments'"
   ]
  },
  {
   "cell_type": "code",
   "execution_count": 0,
   "metadata": {
    "application/vnd.databricks.v1+cell": {
     "cellMetadata": {
      "byteLimit": 2048000,
      "rowLimit": 10000
     },
     "inputWidgets": {},
     "nuid": "b6bf2819-e8aa-4a87-8995-2f0897a0cbdb",
     "showTitle": false,
     "tableResultSettingsMap": {},
     "title": ""
    }
   },
   "outputs": [],
   "source": [
    "df_pay=spark.read.format(\"parquet\").option(\"header\", \"true\").load(loan_payments_src_path)"
   ]
  },
  {
   "cell_type": "code",
   "execution_count": 0,
   "metadata": {
    "application/vnd.databricks.v1+cell": {
     "cellMetadata": {
      "byteLimit": 2048000,
      "rowLimit": 10000
     },
     "inputWidgets": {},
     "nuid": "a962ce59-a201-4cd2-83d0-5c7a320f8a11",
     "showTitle": false,
     "tableResultSettingsMap": {},
     "title": ""
    }
   },
   "outputs": [],
   "source": [
    "from pyspark.sql.functions import crc32, concat\n",
    "df_loan_payments_hash=df_pay.withColumn(\"hashkey\",crc32(concat(*df_pay.columns)))"
   ]
  },
  {
   "cell_type": "code",
   "execution_count": 0,
   "metadata": {
    "application/vnd.databricks.v1+cell": {
     "cellMetadata": {
      "byteLimit": 2048000,
      "rowLimit": 10000
     },
     "inputWidgets": {},
     "nuid": "9c7b68fc-d270-4c7d-9dcc-bb00a6adbb09",
     "showTitle": false,
     "tableResultSettingsMap": {},
     "title": ""
    }
   },
   "outputs": [
    {
     "output_type": "stream",
     "name": "stdout",
     "output_type": "stream",
     "text": [
      "+----------+-------+------------+--------------+-------+---------+-----------+---------+-----------+\n|payment_id|loan_id|payment_date|payment_amount|hashkey|createdby|createdDate|updatedby|updatedDate|\n+----------+-------+------------+--------------+-------+---------+-----------+---------+-----------+\n+----------+-------+------------+--------------+-------+---------+-----------+---------+-----------+\n\n"
     ]
    }
   ],
   "source": [
    "from delta.tables import *\n",
    "dtable_loan_payments = DeltaTable.forPath(spark, loan_payments_tgt_path)\n",
    "dtable_loan_payments.toDF().show()"
   ]
  },
  {
   "cell_type": "code",
   "execution_count": 0,
   "metadata": {
    "application/vnd.databricks.v1+cell": {
     "cellMetadata": {
      "byteLimit": 2048000,
      "rowLimit": 10000
     },
     "inputWidgets": {},
     "nuid": "0f7ad5a1-f57a-4b0b-8851-3d477ee093f5",
     "showTitle": false,
     "tableResultSettingsMap": {},
     "title": ""
    }
   },
   "outputs": [],
   "source": [
    "%python\n",
    "from pyspark.sql.functions import col\n",
    "\n",
    "df_src_loan_payments = df_loan_payments_hash.alias(\"src\").join(\n",
    "    dtable_loan_payments.toDF().alias(\"tgt\"),\n",
    "    (col(\"src.payment_id\") == col(\"tgt.payment_id\")) & (col(\"src.hashkey\") == col(\"tgt.hashkey\")),\n",
    "    \"anti\"\n",
    ").select(\"src.*\")"
   ]
  },
  {
   "cell_type": "code",
   "execution_count": 0,
   "metadata": {
    "application/vnd.databricks.v1+cell": {
     "cellMetadata": {
      "byteLimit": 2048000,
      "rowLimit": 10000
     },
     "inputWidgets": {},
     "nuid": "637320cd-18a6-4df0-bd7a-a5a3369891db",
     "showTitle": false,
     "tableResultSettingsMap": {},
     "title": ""
    }
   },
   "outputs": [],
   "source": [
    "from pyspark.sql.functions import *\n",
    "dtable_loan_payments.alias(\"tgt\").merge(df_src_loan_payments.alias(\"src\"),((col(\"src.payment_id\") == col(\"tgt.payment_id\"))))\\\n",
    "    .whenMatchedUpdate(set={\n",
    "        \"tgt.payment_id\":\"src.payment_id\",\n",
    "        \"tgt.loan_id\":\"src.loan_id\",\n",
    "        \"tgt.payment_date\":\"src.payment_date\",\n",
    "        \"tgt.payment_amount\":\"src.payment_amount\",\n",
    "        \"tgt.hashkey\":\"src.hashkey\",\n",
    "        \"tgt.updatedDate\":current_timestamp(),\n",
    "        \"tgt.updatedby\":lit(\"databricks-update\")\n",
    "    })\\\n",
    "        .whenNotMatchedInsert(values={\n",
    "       \"tgt.payment_id\":\"src.payment_id\",\n",
    "        \"tgt.loan_id\":\"src.loan_id\",\n",
    "        \"tgt.payment_date\":\"src.payment_date\",\n",
    "        \"tgt.payment_amount\":\"src.payment_amount\",\n",
    "        \"tgt.hashkey\":\"src.hashkey\",\n",
    "        \"tgt.createdDate\":current_timestamp(),\n",
    "        \"tgt.createdby\":lit(\"databricks\"),\n",
    "        \"tgt.updatedDate\":current_timestamp(),\n",
    "        \"tgt.updatedBy\":lit(\"databricks\")\n",
    "        }).execute()\n"
   ]
  },
  {
   "cell_type": "markdown",
   "metadata": {
    "application/vnd.databricks.v1+cell": {
     "cellMetadata": {},
     "inputWidgets": {},
     "nuid": "93d97e64-c3cd-4f75-858d-30035bf5ce05",
     "showTitle": false,
     "tableResultSettingsMap": {},
     "title": ""
    }
   },
   "source": [
    "**Loans**"
   ]
  },
  {
   "cell_type": "code",
   "execution_count": 0,
   "metadata": {
    "application/vnd.databricks.v1+cell": {
     "cellMetadata": {
      "byteLimit": 2048000,
      "rowLimit": 10000
     },
     "inputWidgets": {},
     "nuid": "307c8bd7-f04f-4b70-8c62-9f973e2aa82a",
     "showTitle": false,
     "tableResultSettingsMap": {},
     "title": ""
    }
   },
   "outputs": [],
   "source": [
    "loans_src_path='/mnt/input/Silver/loans.parquet'\n",
    "loans_tgt_path='/mnt/input/Gold/loans'"
   ]
  },
  {
   "cell_type": "code",
   "execution_count": 0,
   "metadata": {
    "application/vnd.databricks.v1+cell": {
     "cellMetadata": {
      "byteLimit": 2048000,
      "implicitDf": true,
      "rowLimit": 10000
     },
     "inputWidgets": {},
     "nuid": "254ed66b-c2ae-4c09-86bc-e1c32ed44d2e",
     "showTitle": false,
     "tableResultSettingsMap": {},
     "title": ""
    }
   },
   "outputs": [
    {
     "output_type": "display_data",
     "data": {
      "text/html": [
       "<style scoped>\n",
       "  .table-result-container {\n",
       "    max-height: 300px;\n",
       "    overflow: auto;\n",
       "  }\n",
       "  table, th, td {\n",
       "    border: 1px solid black;\n",
       "    border-collapse: collapse;\n",
       "  }\n",
       "  th, td {\n",
       "    padding: 5px;\n",
       "  }\n",
       "  th {\n",
       "    text-align: left;\n",
       "  }\n",
       "</style><div class='table-result-container'><table class='table-result'><thead style='background-color: white'><tr></tr></thead><tbody></tbody></table></div>"
      ]
     },
     "metadata": {
      "application/vnd.databricks.v1+output": {
       "addedWidgets": {},
       "aggData": [],
       "aggError": "",
       "aggOverflow": false,
       "aggSchema": [],
       "aggSeriesLimitReached": false,
       "aggType": "",
       "arguments": {},
       "columnCustomDisplayInfos": {},
       "data": [],
       "datasetInfos": [],
       "dbfsResultPath": null,
       "isJsonSchema": true,
       "metadata": {
        "dataframeName": null
       },
       "overflow": false,
       "plotOptions": {
        "customPlotOptions": {},
        "displayType": "table",
        "pivotAggregation": null,
        "pivotColumns": null,
        "xColumns": null,
        "yColumns": null
       },
       "removedWidgets": [],
       "schema": [],
       "type": "table"
      }
     },
     "output_type": "display_data"
    }
   ],
   "source": [
    "%sql\n",
    "use catalog hive_metastore;\n",
    "create table if not exists loans\n",
    "(\n",
    "   loan_id int,\n",
    "   customer_id int,\n",
    "   loan_amount decimal,\n",
    "   interest_rate decimal,\n",
    "   loan_term int,\n",
    "   hashkey bigint,\n",
    "   createdby string,\n",
    "   createdDate timestamp,\n",
    "   updatedby string,\n",
    "   updatedDate timestamp\n",
    ") \n",
    "using delta\n",
    "location '/mnt/input/Gold/loans'"
   ]
  },
  {
   "cell_type": "code",
   "execution_count": 0,
   "metadata": {
    "application/vnd.databricks.v1+cell": {
     "cellMetadata": {
      "byteLimit": 2048000,
      "rowLimit": 10000
     },
     "inputWidgets": {},
     "nuid": "7ace2526-2ec3-479f-8d3e-8226071dc193",
     "showTitle": false,
     "tableResultSettingsMap": {},
     "title": ""
    }
   },
   "outputs": [],
   "source": [
    "df_loans=spark.read.format(\"parquet\").option(\"header\", \"true\").load(loans_src_path)"
   ]
  },
  {
   "cell_type": "code",
   "execution_count": 0,
   "metadata": {
    "application/vnd.databricks.v1+cell": {
     "cellMetadata": {
      "byteLimit": 2048000,
      "rowLimit": 10000
     },
     "inputWidgets": {},
     "nuid": "429e4d25-ed34-4cac-88c4-00db9f516f7d",
     "showTitle": false,
     "tableResultSettingsMap": {},
     "title": ""
    }
   },
   "outputs": [],
   "source": [
    "from pyspark.sql.functions import crc32, concat\n",
    "df_loans_hash=df_loans.withColumn(\"hashkey\",crc32(concat(*df_loans.columns)))"
   ]
  },
  {
   "cell_type": "code",
   "execution_count": 0,
   "metadata": {
    "application/vnd.databricks.v1+cell": {
     "cellMetadata": {
      "byteLimit": 2048000,
      "rowLimit": 10000
     },
     "inputWidgets": {},
     "nuid": "7c58b98a-2715-4ad4-a9c4-524d599ccec0",
     "showTitle": false,
     "tableResultSettingsMap": {},
     "title": ""
    }
   },
   "outputs": [
    {
     "output_type": "stream",
     "name": "stdout",
     "output_type": "stream",
     "text": [
      "+-------+-----------+-----------+-------------+---------+-------+---------+-----------+---------+-----------+\n|loan_id|customer_id|loan_amount|interest_rate|loan_term|hashkey|createdby|createdDate|updatedby|updatedDate|\n+-------+-----------+-----------+-------------+---------+-------+---------+-----------+---------+-----------+\n+-------+-----------+-----------+-------------+---------+-------+---------+-----------+---------+-----------+\n\n"
     ]
    }
   ],
   "source": [
    "from delta.tables import *\n",
    "dtable_loans = DeltaTable.forPath(spark, loans_tgt_path)\n",
    "dtable_loans.toDF().show()"
   ]
  },
  {
   "cell_type": "code",
   "execution_count": 0,
   "metadata": {
    "application/vnd.databricks.v1+cell": {
     "cellMetadata": {
      "byteLimit": 2048000,
      "rowLimit": 10000
     },
     "inputWidgets": {},
     "nuid": "4cd5983d-93e7-479b-bac0-7b1e24f3a5c1",
     "showTitle": false,
     "tableResultSettingsMap": {},
     "title": ""
    }
   },
   "outputs": [],
   "source": [
    "%python\n",
    "from pyspark.sql.functions import col\n",
    "\n",
    "df_src_loans = df_loans_hash.alias(\"src\").join(\n",
    "    dtable_loans.toDF().alias(\"tgt\"),\n",
    "    (col(\"src.loan_id\") == col(\"tgt.loan_id\")) & (col(\"src.hashkey\") == col(\"tgt.hashkey\")),\n",
    "    \"anti\"\n",
    ").select(\"src.*\")"
   ]
  },
  {
   "cell_type": "code",
   "execution_count": 0,
   "metadata": {
    "application/vnd.databricks.v1+cell": {
     "cellMetadata": {
      "byteLimit": 2048000,
      "rowLimit": 10000
     },
     "inputWidgets": {},
     "nuid": "09b86196-7635-4147-bc85-d761daf6c665",
     "showTitle": false,
     "tableResultSettingsMap": {},
     "title": ""
    }
   },
   "outputs": [],
   "source": [
    "from pyspark.sql.functions import *\n",
    "dtable_loans.alias(\"tgt\").merge(df_src_loans.alias(\"src\"),((col(\"src.loan_id\") == col(\"tgt.loan_id\"))))\\\n",
    "    .whenMatchedUpdate(set={\n",
    "        \"tgt.loan_id\":\"src.loan_id\",\n",
    "        \"tgt.customer_id\":\"src.customer_id\",\n",
    "        \"tgt.loan_amount\":\"src.loan_amount\",\n",
    "        \"tgt.interest_rate\":\"src.interest_rate\",\n",
    "        \"tgt.loan_term\":\"src.loan_term\",\n",
    "        \"tgt.hashkey\":\"src.hashkey\",\n",
    "        \"tgt.updatedDate\":current_timestamp(),\n",
    "        \"tgt.updatedby\":lit(\"databricks-update\")\n",
    "    })\\\n",
    "        .whenNotMatchedInsert(values={\n",
    "       \"tgt.loan_id\":\"src.loan_id\",\n",
    "        \"tgt.customer_id\":\"src.customer_id\",\n",
    "        \"tgt.loan_amount\":\"src.loan_amount\",\n",
    "        \"tgt.interest_rate\":\"src.interest_rate\",\n",
    "        \"tgt.loan_term\":\"src.loan_term\",\n",
    "        \"tgt.hashkey\":\"src.hashkey\",\n",
    "        \"tgt.createdDate\":current_timestamp(),\n",
    "        \"tgt.createdby\":lit(\"databricks\"),\n",
    "        \"tgt.updatedDate\":current_timestamp(),\n",
    "        \"tgt.updatedBy\":lit(\"databricks\")\n",
    "        }).execute()\n"
   ]
  },
  {
   "cell_type": "markdown",
   "metadata": {
    "application/vnd.databricks.v1+cell": {
     "cellMetadata": {},
     "inputWidgets": {},
     "nuid": "85622f87-13bc-43f3-be05-38376a465fd3",
     "showTitle": false,
     "tableResultSettingsMap": {},
     "title": ""
    }
   },
   "source": [
    "**Transactions**"
   ]
  },
  {
   "cell_type": "code",
   "execution_count": 0,
   "metadata": {
    "application/vnd.databricks.v1+cell": {
     "cellMetadata": {
      "byteLimit": 2048000,
      "rowLimit": 10000
     },
     "inputWidgets": {},
     "nuid": "e0ca9a48-8809-45b1-adff-9678c6b8af55",
     "showTitle": false,
     "tableResultSettingsMap": {},
     "title": ""
    }
   },
   "outputs": [],
   "source": [
    "transactions_src_path='/mnt/input/Silver/transactions.parquet'\n",
    "transactions_tgt_path='/mnt/input/Gold/transactions'"
   ]
  },
  {
   "cell_type": "code",
   "execution_count": 0,
   "metadata": {
    "application/vnd.databricks.v1+cell": {
     "cellMetadata": {
      "byteLimit": 2048000,
      "implicitDf": true,
      "rowLimit": 10000
     },
     "inputWidgets": {},
     "nuid": "2a64b4f9-12a6-4c3e-adee-94f5a1fb54a4",
     "showTitle": false,
     "tableResultSettingsMap": {},
     "title": ""
    }
   },
   "outputs": [
    {
     "output_type": "display_data",
     "data": {
      "text/html": [
       "<style scoped>\n",
       "  .table-result-container {\n",
       "    max-height: 300px;\n",
       "    overflow: auto;\n",
       "  }\n",
       "  table, th, td {\n",
       "    border: 1px solid black;\n",
       "    border-collapse: collapse;\n",
       "  }\n",
       "  th, td {\n",
       "    padding: 5px;\n",
       "  }\n",
       "  th {\n",
       "    text-align: left;\n",
       "  }\n",
       "</style><div class='table-result-container'><table class='table-result'><thead style='background-color: white'><tr></tr></thead><tbody></tbody></table></div>"
      ]
     },
     "metadata": {
      "application/vnd.databricks.v1+output": {
       "addedWidgets": {},
       "aggData": [],
       "aggError": "",
       "aggOverflow": false,
       "aggSchema": [],
       "aggSeriesLimitReached": false,
       "aggType": "",
       "arguments": {},
       "columnCustomDisplayInfos": {},
       "data": [],
       "datasetInfos": [],
       "dbfsResultPath": null,
       "isJsonSchema": true,
       "metadata": {
        "dataframeName": null
       },
       "overflow": false,
       "plotOptions": {
        "customPlotOptions": {},
        "displayType": "table",
        "pivotAggregation": null,
        "pivotColumns": null,
        "xColumns": null,
        "yColumns": null
       },
       "removedWidgets": [],
       "schema": [],
       "type": "table"
      }
     },
     "output_type": "display_data"
    }
   ],
   "source": [
    "%sql\n",
    "use catalog hive_metastore;\n",
    "create table if not exists transactions\n",
    "(\n",
    "   transaction_id int,\n",
    "   account_id int,\n",
    "   transaction_date timestamp,\n",
    "   transaction_amount decimal,\n",
    "   transaction_type string,\n",
    "   hashkey bigint,\n",
    "   createdby string,\n",
    "   createdDate timestamp,\n",
    "   updatedby string,\n",
    "   updatedDate timestamp\n",
    ") \n",
    "using delta\n",
    "location '/mnt/input/Gold/transactions'"
   ]
  },
  {
   "cell_type": "code",
   "execution_count": 0,
   "metadata": {
    "application/vnd.databricks.v1+cell": {
     "cellMetadata": {
      "byteLimit": 2048000,
      "rowLimit": 10000
     },
     "inputWidgets": {},
     "nuid": "11558c2a-9a98-499a-9333-b2aee5f2f9f1",
     "showTitle": false,
     "tableResultSettingsMap": {},
     "title": ""
    }
   },
   "outputs": [],
   "source": [
    "df_transactions=spark.read.format(\"parquet\").option(\"header\", \"true\").load(transactions_src_path)"
   ]
  },
  {
   "cell_type": "code",
   "execution_count": 0,
   "metadata": {
    "application/vnd.databricks.v1+cell": {
     "cellMetadata": {
      "byteLimit": 2048000,
      "rowLimit": 10000
     },
     "inputWidgets": {},
     "nuid": "873bf6b4-8716-435d-a770-7894de35829f",
     "showTitle": false,
     "tableResultSettingsMap": {},
     "title": ""
    }
   },
   "outputs": [],
   "source": [
    "from pyspark.sql.functions import crc32, concat\n",
    "df_transactions_hash=df_transactions.withColumn(\"hashkey\",crc32(concat(*df_transactions.columns)))"
   ]
  },
  {
   "cell_type": "code",
   "execution_count": 0,
   "metadata": {
    "application/vnd.databricks.v1+cell": {
     "cellMetadata": {
      "byteLimit": 2048000,
      "rowLimit": 10000
     },
     "inputWidgets": {},
     "nuid": "7fdd5597-18f2-4293-9c94-3492a8b29d60",
     "showTitle": false,
     "tableResultSettingsMap": {},
     "title": ""
    }
   },
   "outputs": [
    {
     "output_type": "stream",
     "name": "stdout",
     "output_type": "stream",
     "text": [
      "+--------------+----------+----------------+------------------+----------------+-------+---------+-----------+---------+-----------+\n|transaction_id|account_id|transaction_date|transaction_amount|transaction_type|hashkey|createdby|createdDate|updatedby|updatedDate|\n+--------------+----------+----------------+------------------+----------------+-------+---------+-----------+---------+-----------+\n+--------------+----------+----------------+------------------+----------------+-------+---------+-----------+---------+-----------+\n\n"
     ]
    }
   ],
   "source": [
    "from delta.tables import *\n",
    "dtable_transactions = DeltaTable.forPath(spark, transactions_tgt_path)\n",
    "dtable_transactions.toDF().show()"
   ]
  },
  {
   "cell_type": "code",
   "execution_count": 0,
   "metadata": {
    "application/vnd.databricks.v1+cell": {
     "cellMetadata": {
      "byteLimit": 2048000,
      "rowLimit": 10000
     },
     "inputWidgets": {},
     "nuid": "aa61297f-3657-4741-9023-c3ca11123ed9",
     "showTitle": false,
     "tableResultSettingsMap": {},
     "title": ""
    }
   },
   "outputs": [],
   "source": [
    "%python\n",
    "from pyspark.sql.functions import col\n",
    "\n",
    "df_src_transactions = df_transactions_hash.alias(\"src\").join(\n",
    "    dtable_transactions.toDF().alias(\"tgt\"),\n",
    "    (col(\"src.transaction_id\") == col(\"tgt.transaction_id\")) & (col(\"src.hashkey\") == col(\"tgt.hashkey\")),\n",
    "    \"anti\"\n",
    ").select(\"src.*\")"
   ]
  },
  {
   "cell_type": "code",
   "execution_count": 0,
   "metadata": {
    "application/vnd.databricks.v1+cell": {
     "cellMetadata": {
      "byteLimit": 2048000,
      "rowLimit": 10000
     },
     "inputWidgets": {},
     "nuid": "ae6ecb4c-76a6-490b-afeb-4acb0106be0b",
     "showTitle": false,
     "tableResultSettingsMap": {},
     "title": ""
    }
   },
   "outputs": [],
   "source": [
    "from pyspark.sql.functions import *\n",
    "dtable_transactions.alias(\"tgt\").merge(df_src_transactions.alias(\"src\"),((col(\"src.transaction_id\") == col(\"tgt.transaction_id\"))))\\\n",
    "    .whenMatchedUpdate(set={\n",
    "        \"tgt.transaction_id\":\"src.transaction_id\",\n",
    "        \"tgt.account_id\":\"src.account_id\",\n",
    "        \"tgt.transaction_date\":\"src.transaction_date\",\n",
    "        \"tgt.transaction_amount\":\"src.transaction_amount\",\n",
    "        \"tgt.transaction_type\":\"src.transaction_type\",\n",
    "        \"tgt.hashkey\":\"src.hashkey\",\n",
    "        \"tgt.updatedDate\":current_timestamp(),\n",
    "        \"tgt.updatedby\":lit(\"databricks-update\")\n",
    "    })\\\n",
    "        .whenNotMatchedInsert(values={\n",
    "      \"tgt.transaction_id\":\"src.transaction_id\",\n",
    "        \"tgt.account_id\":\"src.account_id\",\n",
    "        \"tgt.transaction_date\":\"src.transaction_date\",\n",
    "        \"tgt.transaction_amount\":\"src.transaction_amount\",\n",
    "        \"tgt.transaction_type\":\"src.transaction_type\",\n",
    "        \"tgt.hashkey\":\"src.hashkey\",\n",
    "        \"tgt.createdDate\":current_timestamp(),\n",
    "        \"tgt.createdby\":lit(\"databricks\"),\n",
    "        \"tgt.updatedDate\":current_timestamp(),\n",
    "        \"tgt.updatedBy\":lit(\"databricks\")\n",
    "        }).execute()\n"
   ]
  },
  {
   "cell_type": "code",
   "execution_count": 0,
   "metadata": {
    "application/vnd.databricks.v1+cell": {
     "cellMetadata": {},
     "inputWidgets": {},
     "nuid": "c7427ddc-c448-4863-bece-8a5eee5b21be",
     "showTitle": false,
     "tableResultSettingsMap": {},
     "title": ""
    }
   },
   "outputs": [],
   "source": []
  }
 ],
 "metadata": {
  "application/vnd.databricks.v1+notebook": {
   "computePreferences": null,
   "dashboards": [],
   "environmentMetadata": {
    "base_environment": "",
    "environment_version": "2"
   },
   "inputWidgetPreferences": null,
   "language": "python",
   "notebookMetadata": {
    "mostRecentlyExecutedCommandWithImplicitDF": {
     "commandId": 7115269018798524,
     "dataframes": [
      "_sqldf"
     ]
    },
    "pythonIndentUnit": 4
   },
   "notebookName": "SCD Type-1",
   "widgets": {}
  },
  "language_info": {
   "name": "python"
  }
 },
 "nbformat": 4,
 "nbformat_minor": 0
}